{
  "nbformat": 4,
  "nbformat_minor": 0,
  "metadata": {
    "colab": {
      "name": "KTMT_20202_UngVietAnh20172394.ipynb",
      "provenance": [],
      "collapsed_sections": [
        "wtmTzz9T_rMj",
        "blDJpqCkEGnT",
        "1bQxEtw0EI8Z"
      ],
      "authorship_tag": "ABX9TyNRZRxCx/qSEV9NZjN6e/vz",
      "include_colab_link": true
    },
    "kernelspec": {
      "name": "python3",
      "display_name": "Python 3"
    },
    "language_info": {
      "name": "python"
    }
  },
  "cells": [
    {
      "cell_type": "markdown",
      "metadata": {
        "id": "view-in-github",
        "colab_type": "text"
      },
      "source": [
        "<a href=\"https://colab.research.google.com/github/ungvietanh20172394/KTMT20202_20172394/blob/main/KTMT_20202_UngVietAnh20172394.ipynb\" target=\"_parent\"><img src=\"https://colab.research.google.com/assets/colab-badge.svg\" alt=\"Open In Colab\"/></a>"
      ]
    },
    {
      "cell_type": "markdown",
      "metadata": {
        "id": "wtmTzz9T_rMj"
      },
      "source": [
        "#Khởi tạo\n"
      ]
    },
    {
      "cell_type": "code",
      "metadata": {
        "id": "N2PbM_7Uxb4j",
        "colab": {
          "base_uri": "https://localhost:8080/"
        },
        "outputId": "5ffec837-979f-4f96-8443-7b43062a1958"
      },
      "source": [
        "class Helper:\n",
        "  def Init1(row, col, num):\n",
        "    text = \"\"\n",
        "    text += 'addi x22, x0, 0 #i'\n",
        "    text += '\\naddi x25, x0, 0x200 #contain base address of input array'\n",
        "    text += '\\naddi x26, x0, 0x400 #contain base address of output array'\n",
        "    text += '\\naddi x24, x0, ' + str(row * col) +' #length of array'\n",
        "    text += '\\naddi x2, x0, ' + str(row) +' #row'\n",
        "    text += '\\naddi x3, x0, ' + str(col) +' #column'\n",
        "    text += '\\naddi x23, x0, ' + str(num) +' #number' + '\\n'\n",
        "    return text\n",
        "\n",
        "  def Init2(row1, col1row2, col2):\n",
        "    text = \"\"\n",
        "    text += 'addi x24, x0, 0x200 #contain base address of input array1' + '\\n'\n",
        "    text += 'addi x25, x0, 0x400 #contain base address of input array2' + '\\n'\n",
        "    text += 'addi x26, x0, 0x600 #contain base address of output array' + '\\n'\n",
        "    text += 'addi x2, x0, ' + str(row1) +' #row1 = rowAnswer' + '\\n'\n",
        "    text += 'addi x3, x0, ' + str(col1row2) +' # (col1 = row2)' + '\\n'\n",
        "    text += 'addi x4, x0, ' + str(col2) +' #col2 = colAnswer' + '\\n'\n",
        "    text += 'addi x8, x0, 0 #i = 0' + '\\n'\n",
        "    text += 'addi x9, x0, 0 #j = 0' + '\\n'\n",
        "    text += 'addi x10, x0, 0 #k = 0' + '\\n'\n",
        "    text += 'addi x12 , x0, 0 #sum' + '\\n'\n",
        "    return text\n",
        "\n",
        "  def Init3(arrInput):\n",
        "    text = \"\"\n",
        "    index = 0\n",
        "    for i in range(len(arrInput)):\n",
        "      for j in range(len(arrInput[i])):\n",
        "        text += 'addi x1, x0,' + str(arrInput[i][j]) + '\\nsb x1, '+str(index)+'(x25)\\n'\n",
        "        index += 1\n",
        "    return text\n",
        "\n",
        "  def Init4(row, col):\n",
        "    text = \"\"\n",
        "    text +=\"addi x24, x0, 0x750 #contain base address of arr to sort\" + '\\n'\n",
        "    text +=\"addi x25, x0, 0x400 #contain base address of input array\" + '\\n'\n",
        "    text +=\"addi x26, x0, 0x600 #contain base address of output array\" + '\\n'\n",
        "    text +=\"addi x2, x0, 7 #length of array sort -2 = size window - 2\" + '\\n'\n",
        "    text +=\"addi x3, x0, \" + str(row*col) + \" #length of input array\" + '\\n'\n",
        "    text +=\"addi x4, x0, 0 #index\" + '\\n'\n",
        "    text +=\"addi x5, x0, \" + str(row) + \" #row of input\" + '\\n'\n",
        "    text +=\"addi x6, x0, \" + str(col) + \" #col of input\" + '\\n'\n",
        "    text +=\"addi x10, x0, 0 #k = 0\" + '\\n'\n",
        "    text +=\"addi x11 , x0, 0 #tmp\" + '\\n'\n",
        "    return text\n",
        "\n",
        " \n",
        "print(Helper.Init4(5, 5))\n",
        "\n",
        "\n",
        "\n",
        "\n",
        "\n",
        "\n",
        "\n",
        "\n",
        "\n",
        "  "
      ],
      "execution_count": 3,
      "outputs": [
        {
          "output_type": "stream",
          "text": [
            "addi x24, x0, 0x750 #contain base address of arr to sort\n",
            "addi x25, x0, 0x400 #contain base address of input array\n",
            "addi x26, x0, 0x600 #contain base address of output array\n",
            "addi x2, x0, 7 #length of array sort -2 = size window - 2\n",
            "addi x3, x0, 25 #length of input array\n",
            "addi x4, x0, 0 #index\n",
            "addi x5, x0, 5 #row of input\n",
            "addi x6, x0, 5 #col of input\n",
            "addi x10, x0, 0 #k = 0\n",
            "addi x11 , x0, 0 #tmp\n",
            "\n"
          ],
          "name": "stdout"
        }
      ]
    },
    {
      "cell_type": "code",
      "metadata": {
        "id": "W1UOXDat_lt-"
      },
      "source": [
        "import numpy as np\n",
        "\n",
        "class Calculator:\n",
        "  def MatrixScaler(MaIp, number):\n",
        "    MaOp = MaIp * number;\n",
        "    length = MaIp.shape[0] * MaIp.shape[1]\n",
        "    obj = open(\"ScaleMatrix.txt\", mode='w+')\n",
        "    text = Helper.Init1(MaIp.shape[0],MaIp.shape[1],number)\n",
        "    index = 0\n",
        "    for x in np.nditer(MaIp):\n",
        "      text += 'addi x1, x0,' + str(x) + '\\nsb x1, '+str(index)+'(x25)\\n'\n",
        "      index +=1\n",
        "\n",
        "    text += 'loop:' + '\\n'\n",
        "    text += 'bgt x22, x24 , exit' + '\\n'\n",
        "    text += 'add x10, x22, x25' + '\\n'\n",
        "    text += 'add x11, x22, x26' + '\\n'\n",
        "    text += 'lb x9, 0(x10)' + '\\n'\n",
        "    text += 'mul x1, x9, x23' + '\\n'\n",
        "    text += 'sb x1, 0(x11)' + '\\n'\n",
        "    text += 'addi x22, x22,1' + '\\n'\n",
        "    text += 'beq x0, x0, loop' + '\\n'\n",
        "    text += 'exit:' + '\\n'\n",
        "    text += 'nop' + '\\n'\n",
        "    \n",
        "    obj.write(text)\n",
        "    obj.close()\n",
        "    print(\"Check file ScaleMatrix.txt\")\n",
        "    return MaOp\n",
        "\n",
        "  def MatrixMultiply(MaIp1, MaIp2):\n",
        "    MaOp = np.dot(MaIp1, MaIp2);\n",
        "    obj = open(\"MultiMatrix.txt\", mode='w+')\n",
        "    index = 0\n",
        "    if(MaIp1.shape[1] != MaIp2.shape[0]):\n",
        "      print(\"Kiểm tra lại ma trận đầu vào, số cột matrix1 = số hàng matrix2\")\n",
        "      return\n",
        "    text = Helper.Init2(MaIp1.shape[0],MaIp1.shape[1],MaIp2.shape[1])\n",
        "    for x in np.nditer(MaIp1):\n",
        "      text += 'addi x1, x0,' + str(x) + '\\nsb x1, '+str(index)+'(x24)\\n'\n",
        "      index +=1\n",
        "\n",
        "    index = 0\n",
        "    for x in np.nditer(MaIp2):\n",
        "      text += 'addi x1, x0,' + str(x) + '\\nsb x1, '+str(index)+'(x25)\\n'\n",
        "      index +=1\n",
        "\n",
        "    text += 'loop:' + '\\n'\n",
        "    text += 'bgt x8, x2 , exit # i >= row1 rowAns => exit' + '\\n'\n",
        "    text += 'addi x9, x0, 0'+ '\\n'\n",
        "    text += 'loop2:'+ '\\n'\n",
        "    text += 'bgt x9, x4 , exit2 # j >= col2 colAns => exit2'+ '\\n'\n",
        "\n",
        "    text += 'addi x12 , x0, 0 #sum'+ '\\n'\n",
        "    text += 'addi x10, x0, 0'+ '\\n'\n",
        "    text += 'loop3:'+ '\\n'\n",
        "    text += 'bge x10, x3 , exit3 # k >= col1 => exit3'+ '\\n'\n",
        "\n",
        "    text += 'mul x15, x8, x3  #i * col1 '+ '\\n'\n",
        "    text += 'add x15, x15, x10 #i * col1 + k'+ '\\n'\n",
        "    text += 'add x15, x15, x24 # &a[i * col1 + k] -- a is matrix 1'+ '\\n'\n",
        "    text += 'lb x16, 0(x15) # a[i * col1 + k]'+ '\\n'\n",
        "\n",
        "    text += 'mul x15, x10, x4  #k * col2'+ '\\n'     \n",
        "    text += 'add x15, x15, x9 #k * col2 + j'+ '\\n'\n",
        "    text += 'add x15, x15, x25 # &a[i * col1 + k] -- b is matrix 2'+ '\\n'\n",
        "    text += 'lb x17, 0(x15) # b[k * col2 + j]'+ '\\n'\n",
        "\n",
        "    text += 'mul x18, x16, x17 #a[i * col1 + k] * b[k * col2 + j]'+ '\\n'\n",
        "    text += 'add x12 , x12, x18 #sum = sum + a[i * col1 + k] * b[k * col2 + j]'+ '\\n'\n",
        "\n",
        "    text += 'addi x10, x10, 1 # k++'+ '\\n'\n",
        "    text += 'beq x0, x0, loop3 '+ '\\n'\n",
        "    text += 'exit3:'+ '\\n'\n",
        "\n",
        "    text += 'mul x19, x4, x8 #i * col2'+ '\\n'\n",
        "    text += 'add x19,x19, x9 #i * col2 + j'+ '\\n'\n",
        "    text += 'add x19,x19, x26 #&d[i * col2 + j]'+ '\\n'\n",
        "    text += 'sb x12, 0(x19) #d[i * col2 + j] = sum -- d is output matrix'+ '\\n'\n",
        "\n",
        "\n",
        "    text += 'addi x9, x9, 1 # j++'+ '\\n'\n",
        "    text += 'beq x0, x0, loop2 '+ '\\n'\n",
        "    text += 'exit2:'+ '\\n'\n",
        "\n",
        "    text += 'addi x8, x8, 1 # i++'+ '\\n'\n",
        "    text += 'beq x0, x0, loop'+ '\\n'\n",
        "    text += 'exit:'+ '\\n'\n",
        "    text += 'nop'+ '\\n'\n",
        "      \n",
        "    obj.write(text)\n",
        "    obj.close()\n",
        "    print(\"Check file MultiMatrix.txt\")\n",
        "    return MaOp\n",
        "\n",
        "  def MediunFilter(image):\n",
        "    rows = len(image)\n",
        "    columns = len(image[0])\n",
        "    text = Helper.Init4(row=rows, col = columns)\n",
        "    text += Helper.Init3(image)\n",
        "    obj = open(\"MedianFilter.txt\", mode='w+')\n",
        "    text+='# output = input'+ '\\n'\n",
        "    text+='copyInput:'+ '\\n'\n",
        "    text+='bgt x4, x3, exitcopyInput # index >= lenghth input arr => exitcopyInput'+ '\\n'\n",
        "    text+='add x15, x4, x25'+ '\\n'\n",
        "    text+='lb x16, 0(x15)'+ '\\n'\n",
        "    text+='add x15, x4, x26'+ '\\n'\n",
        "    text+='sb x16, 0(x15)'+ '\\n'\n",
        "    text+='addi x4, x4, 1 # index++'+ '\\n'\n",
        "    text+='beq x0, x0, copyInput'+ '\\n'\n",
        "    text+='exitcopyInput:'+ '\\n'\n",
        "    text+='addi x12, x0, 1 #row'+ '\\n'\n",
        "    text+='addi x13, x0, 1 #col'+ '\\n'\n",
        "    text+='addi x21, x5, -1'+ '\\n'\n",
        "    text+='addi x22, x6, -1'+ '\\n'\n",
        "    text+='row:'+ '\\n'\n",
        "    text+='bge x12, x21 , exitRow # row >= row input => exit'+ '\\n'\n",
        "    text+='addi x13, x0, 1'+ '\\n'\n",
        "    text+='col:'+ '\\n'\n",
        "    text+='bge x13, x22 , exitCol # row >= row input => exit'+ '\\n'\n",
        "    text+='#window[0] = array[row-1][col-1]'+ '\\n'\n",
        "    text+='addi x19, x12, -1 #[row-1]'+ '\\n'\n",
        "    text+='addi x20, x13, -1 #[col-1]'+ '\\n'\n",
        "    text+='mul x19, x5, x19'+ '\\n'\n",
        "    text+='add x19, x19, x20'+ '\\n'\n",
        "    text+='add x19, x19, x25 #&array[row-1][col-1]'+ '\\n'\n",
        "    text+='lb x20, 0(x19) #array[row-1][col-1]'+ '\\n'\n",
        "    text+='sb x20, 0(x24)'+ '\\n'\n",
        "    text+='#window[1] = array[row-1][col]'+ '\\n'\n",
        "    text+='addi x19, x12, -1 #[row-1]'+ '\\n'\n",
        "    text+='addi x20, x13, 0 #[col]'+ '\\n'\n",
        "    text+='mul x19, x5, x19'+ '\\n'\n",
        "    text+='add x19, x19, x20'+ '\\n'\n",
        "    text+='add x19, x19, x25 #&array[row-1][col]'+ '\\n'\n",
        "    text+='lb x20, 0(x19) #array[row-1][col]'+ '\\n'\n",
        "    text+='sb x20, 1(x24)'+ '\\n'\n",
        "    text+='#window[2] = array[row-1][col+1]'+ '\\n'\n",
        "    text+='addi x19, x12, -1 #[row-1]'+ '\\n'\n",
        "    text+='addi x20, x13, 1 #[col+1]'+ '\\n'\n",
        "    text+='mul x19, x5, x19'+ '\\n'\n",
        "    text+='add x19, x19, x20'+ '\\n'\n",
        "    text+='add x19, x19, x25 #&array[row-1][col+1]'+ '\\n'\n",
        "    text+='lb x20, 0(x19) #array[row-1][col+1]'+ '\\n'\n",
        "    text+='sb x20, 2(x24)'+ '\\n'\n",
        "    text+='#window[3] = array[row][col-1]'+ '\\n'\n",
        "    text+='addi x19, x12, 0 #[row]'+ '\\n'\n",
        "    text+='addi x20, x13, -1 #[col-1]'+ '\\n'\n",
        "    text+='mul x19, x5, x19'+ '\\n'\n",
        "    text+='add x19, x19, x20'+ '\\n'\n",
        "    text+='add x19, x19, x25 #&array[row][col-1]'+ '\\n'\n",
        "    text+='lb x20, 0(x19) #array[row][col-1]'+ '\\n'\n",
        "    text+='sb x20, 3(x24)'+ '\\n'\n",
        "    text+='#window[4] = array[row][col]'+ '\\n'\n",
        "    text+='addi x19, x12, 0 #[row]'+ '\\n'\n",
        "    text+='addi x20, x13, 0 #[col]'+ '\\n'\n",
        "    text+='mul x19, x5, x19'+ '\\n'\n",
        "    text+='add x19, x19, x20'+ '\\n'\n",
        "    text+='add x19, x19, x25 #&array[row][col]'+ '\\n'\n",
        "    text+='lb x20, 0(x19) #array[row][col]'+ '\\n'\n",
        "    text+='sb x20, 4(x24)'+ '\\n'\n",
        "    text+='#window[5] = array[row][col+1]'+ '\\n'\n",
        "    text+='addi x19, x12, 0 #[row]'+ '\\n'\n",
        "    text+='addi x20, x13, 1 #[col+1]'+ '\\n'\n",
        "    text+='mul x19, x5, x19'+ '\\n'\n",
        "    text+='add x19, x19, x20'+ '\\n'\n",
        "    text+='add x19, x19, x25 #&array[row][col+1]'+ '\\n'\n",
        "    text+='lb x20, 0(x19) #array[row][col+1]'+ '\\n'\n",
        "    text+='sb x20, 5(x24)'+ '\\n'\n",
        "    text+='#window[6] = array[row+1][col-1]'+ '\\n'\n",
        "    text+='addi x19, x12, 1 #[row+1]'+ '\\n'\n",
        "    text+='addi x20, x13, -1 #[col-1]'+ '\\n'\n",
        "    text+='mul x19, x5, x19'+ '\\n'\n",
        "    text+='add x19, x19, x20'+ '\\n'\n",
        "    text+='add x19, x19, x25 #&array[row+1][col-1]'+ '\\n'\n",
        "    text+='lb x20, 0(x19) #array[row+1][col-1]'+ '\\n'\n",
        "    text+='sb x20, 6(x24)'+ '\\n'\n",
        "    text+='#window[7] = array[row+1][col]'+ '\\n'\n",
        "    text+='addi x19, x12, 1 #[row+1]'+ '\\n'\n",
        "    text+='addi x20, x13, 0 #[col]'+ '\\n'\n",
        "    text+='mul x19, x5, x19'+ '\\n'\n",
        "    text+='add x19, x19, x20'+ '\\n'\n",
        "    text+='add x19, x19, x25 #&array[row+1][col]'+ '\\n'\n",
        "    text+='lb x20, 0(x19) #array[row+1][col]'+ '\\n'\n",
        "    text+='sb x20, 7(x24)'+ '\\n'\n",
        "    text+='#window[8] = array[row+1][col+1]'+ '\\n'\n",
        "    text+='addi x19, x12, 1 #[row+1]'+ '\\n'\n",
        "    text+='addi x20, x13, 1 #[col+1]'+ '\\n'\n",
        "    text+='mul x19, x5, x19'+ '\\n'\n",
        "    text+='add x19, x19, x20'+ '\\n'\n",
        "    text+='add x19, x19, x25 #&array[row+1][col+1]'+ '\\n'\n",
        "    text+='lb x20, 0(x19) #array[row+1][col+1]'+ '\\n'\n",
        "    text+='sb x20, 8(x24)'+ '\\n'\n",
        "    text+='#sort window ---------------selction sort'+ '\\n'\n",
        "    text+='addi x8, x0, 0 #i = 0'+ '\\n'\n",
        "    \n",
        "    text+='addi x9, x0, 0 #j = 0'+ '\\n'\n",
        "    text+='loop:'+ '\\n'\n",
        "\n",
        "    text+='bgt x8, x2 , exitSort # i > lenghth arr => exit'+ '\\n'\n",
        "    text+='addi x9, x0, 0'+ '\\n'\n",
        "    text+='loop2:'+ '\\n'\n",
        "    text+='bgt x9, x2 , exit2 # j > lenghth arr => exit2'+ '\\n'\n",
        "    text+='addi x11 , x0, 0 #tmp'+ '\\n'\n",
        "\n",
        "\n",
        "    text+='addi x15, x9, 0 '+ '\\n'\n",
        "    text+='add x15 , x15, x24 #&arr[j]'+ '\\n'\n",
        "\n",
        "    text+='lb x16, 0(x15) # arr[j]'+ '\\n'\n",
        "\n",
        "\n",
        "\n",
        "    text+='addi x14 ,x9, 1'+ '\\n'\n",
        "    text+='add x14 ,x14 ,x24 #&arr[j+1]'+ '\\n'\n",
        "\n",
        "    text+='lb x17, 0(x14) # arr[j+1]'+ '\\n'\n",
        "\n",
        "    text+='bltu x16, x17, exit3'+ '\\n'\n",
        "    text+='#addi x11, x16, 0 # tmp = arr[j]'+ '\\n'\n",
        "    text+='sb x17, 0(x15) #arr[j] = arr[j + 1]'+ '\\n'\n",
        "    text+='sb x16,0(x14) #arr[j + 1] = tmp;'+ '\\n'\n",
        "\n",
        "    text+='exit3:'+ '\\n'\n",
        "    text+='addi x9, x9, 1 # j++'+ '\\n'\n",
        "    text+='beq x0, x0, loop2 '+ '\\n'\n",
        "    text+='exit2:'+ '\\n'\n",
        "    text+='addi x8, x8, 1 # i++'+ '\\n'\n",
        "    text+='beq x0, x0, loop'+ '\\n'\n",
        "\n",
        "    text+='exitSort:'+ '\\n'\n",
        "\n",
        "    text+='addi x1, x0, 0'+ '\\n'\n",
        "    text+='lb x1, 4(x24) # get 4 th in sorted array'+ '\\n'\n",
        "    text+='addi x19, x0, 0'+ '\\n'\n",
        "\n",
        "    text+='mul x19, x5, x12'+ '\\n'\n",
        "    text+='add x19, x19, x13'+ '\\n'\n",
        "    text+='add x19, x19, x26 '+ '\\n'\n",
        "    text+='sb x1, 0(x19) #update'+ '\\n'\n",
        "\n",
        "\n",
        "\n",
        "    text+='addi x13, x13, 1 # col++'+ '\\n'\n",
        "    text+='beq x0, x0, col'+ '\\n'\n",
        "    text+='exitCol:'+ '\\n'\n",
        "        \n",
        "    text+='addi x12, x12, 1 # row++'+ '\\n'\n",
        "    text+='beq x0, x0, row'+ '\\n'\n",
        "    text+='exitRow:'+ '\\n'   \n",
        "\n",
        "    text+='exit:'+ '\\n'   \n",
        "    text+='nop'+ '\\n'   \n",
        "    obj.write(text)\n",
        "    obj.close()\n",
        "    filtered= list(map(list, image))\n",
        "    numrows = rows\n",
        "    numcols = columns\n",
        "    array = image.copy()\n",
        "    # arr = [[0, 0, 0, 0, 0,0], \n",
        "    # [0, 0, 0, 0, 0,0], \n",
        "    # [0, 0, 0, 0, 0,0], \n",
        "    # [0, 0, 0, 0, 0,0], \n",
        "    # [0, 0, 0, 0, 0,0], \n",
        "    # [0, 0, 0, 0, 0,0]\n",
        "    # ] \n",
        "    arr = list(map(list, image))\n",
        "    # arr =  [[0]*columns]*rows\n",
        "    # print(arr)\n",
        "    \n",
        "    window = []\n",
        "    for row in range(1,numrows-1):    \n",
        "        for col in range(1,numcols-1):\n",
        "            #neighbor pixel values are stored in window including this pixel\n",
        "            #print(row, col)\n",
        "            window = [0,0,0,0,0,0,0,0,0]\n",
        "            window[0] = array[row-1][col-1]\n",
        "            window[1] = array[row-1][col]\n",
        "            window[2] = array[row-1][col+1]\n",
        "            window[3] = array[row][col-1]\n",
        "            window[4] = array[row][col]\n",
        "            window[5] = array[row][col+1]\n",
        "            window[6] = array[row+1][col-1]\n",
        "            window[7] = array[row+1][col]\n",
        "            window[8] = array[row+1][col+1]\n",
        "            #sort window array\n",
        "            window.sort(); \n",
        "            #put the median to the new array\n",
        "            arr[row][col]=window[4]; \n",
        "            window.clear() \n",
        "    filtered = arr\n",
        "    # print(filtered)\n",
        "    print(\"Check file MedianFilter.txt\")\n",
        "    return filtered"
      ],
      "execution_count": 65,
      "outputs": []
    },
    {
      "cell_type": "markdown",
      "metadata": {
        "id": "blDJpqCkEGnT"
      },
      "source": [
        "#Các phép toán ma trận"
      ]
    },
    {
      "cell_type": "markdown",
      "metadata": {
        "id": "1bQxEtw0EI8Z"
      },
      "source": [
        "###Nhân ma trận với một vô hướng"
      ]
    },
    {
      "cell_type": "markdown",
      "metadata": {
        "id": "GhAyNr4MFBsX"
      },
      "source": [
        "<figure>\n",
        "<center>\n",
        "<img src='https://miro.medium.com/max/1948/1*gf3HdrkDBi6Dch_XxVuYvA.png' />\n",
        "<figcaption>Nhân vô hướng</figcaption></center>\n",
        "</figure>"
      ]
    },
    {
      "cell_type": "code",
      "metadata": {
        "colab": {
          "base_uri": "https://localhost:8080/"
        },
        "id": "VK22OO-IG66P",
        "outputId": "dc5a2700-1291-44a2-e393-5a0f21bb3bdc"
      },
      "source": [
        "matrixA = np.array([(1, 2, 3), (4, 5, 6)])\n",
        "print(\"input\\n\" , matrixA)\n",
        "# [[1 2 3]\n",
        "#  [4 5 6]]\n",
        "\n",
        "# Multiplying matrixA by 5\n",
        "res = Calculator.MatrixScaler(matrixA,5)\n",
        "print(res)"
      ],
      "execution_count": null,
      "outputs": [
        {
          "output_type": "stream",
          "text": [
            "input\n",
            " [[1 2 3]\n",
            " [4 5 6]]\n",
            "Check file ScaleMatrix.txt\n",
            "[[ 5 10 15]\n",
            " [20 25 30]]\n"
          ],
          "name": "stdout"
        }
      ]
    },
    {
      "cell_type": "markdown",
      "metadata": {
        "id": "kEBfhLdO49gF"
      },
      "source": [
        "###Nhân 2 ma trận\n"
      ]
    },
    {
      "cell_type": "markdown",
      "metadata": {
        "id": "XwY7RUPB6Xr7"
      },
      "source": [
        "<figure>\n",
        "<center>\n",
        "<img src='https://www.geeksforgeeks.org/wp-content/uploads/strassen_new.png' />\n",
        "<figcaption>Multiplying matrices </figcaption></center>\n",
        "</figure>"
      ]
    },
    {
      "cell_type": "code",
      "metadata": {
        "colab": {
          "base_uri": "https://localhost:8080/"
        },
        "id": "g00y-xYr5APK",
        "outputId": "9460f663-3c6e-4141-e592-4af2118a5f8e"
      },
      "source": [
        "# create matrix A\n",
        "A = np.array([(1, 2, 3), (4, 5, 6)])\n",
        "print(\"Matrix A\")\n",
        "print(A)\n",
        "\n",
        "# [[1 2 3]\n",
        "#  [4 5 6]]\n",
        "\n",
        "# create matrix B\n",
        "B = np.array([(0, 5), (4, 9), (9, 0)])\n",
        "print(\"Matrix B\")\n",
        "print(B)\n",
        "# [[0 5]\n",
        "#  [4 9]\n",
        "#  [9 0]]\n",
        "\n",
        "# product of A and B\n",
        "\n",
        "C = Calculator.MatrixMultiply(A, B)\n",
        "print(\"Product of A and B\")\n",
        "print(C)\n",
        "# [[35 23]\n",
        "#  [74 65]]"
      ],
      "execution_count": null,
      "outputs": [
        {
          "output_type": "stream",
          "text": [
            "Matrix A\n",
            "[[1 2 3]\n",
            " [4 5 6]]\n",
            "Matrix B\n",
            "[[0 5]\n",
            " [4 9]\n",
            " [9 0]]\n",
            "Check file MultiMatrix.txt\n",
            "Product of A and B\n",
            "[[35 23]\n",
            " [74 65]]\n"
          ],
          "name": "stdout"
        }
      ]
    },
    {
      "cell_type": "markdown",
      "metadata": {
        "id": "yt0DwwxDS1q0"
      },
      "source": [
        "#Bộ lọc trung vị\n"
      ]
    },
    {
      "cell_type": "code",
      "metadata": {
        "colab": {
          "base_uri": "https://localhost:8080/",
          "height": 262
        },
        "id": "KifL4C3bCpCy",
        "outputId": "43c05df3-3d4c-462c-bc03-74e7122f68ce"
      },
      "source": [
        "from matplotlib import pyplot as plt\n",
        "\n",
        "fig, axs = plt.subplots(1,2)\n",
        "fig.suptitle('Bộ lọc trung vị')\n",
        "a = plt.imread(\"https://media.geeksforgeeks.org/wp-content/uploads/20190520115432/Screenshot-1110.png\")\n",
        "b = plt.imread(\"https://media.geeksforgeeks.org/wp-content/uploads/20190520115504/Screenshot-1210.png\")\n",
        "axs[0].imshow(a)\n",
        "axs[1].imshow(b)\n",
        "fig.show()\n",
        "print()"
      ],
      "execution_count": 82,
      "outputs": [
        {
          "output_type": "display_data",
          "data": {
            "image/png": "[encoded data removed]",
            "text/plain": [
              "<Figure size 432x288 with 2 Axes>"
            ]
          },
          "metadata": {
            "tags": [],
            "needs_background": "light"
          }
        }
      ]
    },
    {
      "cell_type": "markdown",
      "metadata": {
        "id": "LhBoxhZ3B7pZ"
      },
      "source": [
        "<figure>\n",
        "<center>\n",
        "<img src='https://www.researchgate.net/profile/Andrzej-Bargiela/publication/276304662/figure/fig1/AS:585524309946368@1516611282138/Example-of-Median-Filtering-using-a-33-sampling-window-keeping-border-values-unchanged.png' />\n",
        "<figcaption>Median filter </figcaption></center>\n",
        "</figure>\n"
      ]
    },
    {
      "cell_type": "code",
      "metadata": {
        "colab": {
          "base_uri": "https://localhost:8080/"
        },
        "id": "YvwgJAUnyrYR",
        "outputId": "498b7220-c2a1-454b-c853-7412e4490d74"
      },
      "source": [
        "exmaple = [[1, 4, 0, 1, 3, 1], \n",
        "[2, 2, 4, 2, 2, 3],  \n",
        "[1, 0, 1, 0, 1, 0],  \n",
        "[1, 2, 1, 0, 2, 2],  \n",
        "[2, 5, 3, 1, 2, 5],  \n",
        "[1, 1, 4, 2, 3, 0],  \n",
        "]\n",
        "res = Calculator.MediunFilter(exmaple)\n",
        "for row in res:\n",
        "  print(row)\n"
      ],
      "execution_count": 66,
      "outputs": [
        {
          "output_type": "stream",
          "text": [
            "Check file MedianFilter.txt\n",
            "[1, 4, 0, 1, 3, 1]\n",
            "[2, 1, 1, 1, 1, 3]\n",
            "[1, 1, 1, 1, 2, 0]\n",
            "[1, 1, 1, 1, 1, 2]\n",
            "[2, 2, 2, 2, 2, 5]\n",
            "[1, 1, 4, 2, 3, 0]\n"
          ],
          "name": "stdout"
        }
      ]
    },
    {
      "cell_type": "code",
      "metadata": {
        "colab": {
          "base_uri": "https://localhost:8080/"
        },
        "id": "g2aYN6vW0Xh7",
        "outputId": "176ce9ad-35c8-4b6a-9f8d-2dbcc633080c"
      },
      "source": [
        "image2 = [[1, 2, 3, 4, 5], \n",
        "[6, 7, 8, 9, 10], \n",
        "[11, 12, 13, 14, 15], \n",
        "[16, 17, 18, 19, 20], \n",
        "[21, 22, 23, 24, 25], \n",
        "]\n",
        "res1 = Calculator.MediunFilter(image2)\n",
        "for row in res1:\n",
        "  print(row)"
      ],
      "execution_count": 67,
      "outputs": [
        {
          "output_type": "stream",
          "text": [
            "Check file MedianFilter.txt\n",
            "[1, 2, 3, 4, 5]\n",
            "[6, 7, 8, 9, 10]\n",
            "[11, 12, 13, 14, 15]\n",
            "[16, 17, 18, 19, 20]\n",
            "[21, 22, 23, 24, 25]\n"
          ],
          "name": "stdout"
        }
      ]
    }
  ]
}